{
 "cells": [
  {
   "cell_type": "code",
   "execution_count": 2,
   "metadata": {},
   "outputs": [],
   "source": [
    "import matplotlib.pyplot as plt\n",
    "from pennylane import numpy as np\n",
    "import pennylane as qml\n",
    "import qiskit\n",
    "from qiskit.algorithms import QAOA\n",
    "import numpy as np\n",
    "import networkx as nx\n",
    "import matplotlib.pyplot as plt\n",
    "from qiskit.algorithms.optimizers import COBYLA, ADAM, SLSQP\n",
    "from qiskit.utils import QuantumInstance\n",
    "from qiskit import Aer\n",
    "from qiskit.opflow import I, X, Y, Z, Zero, One, PauliExpectation, CircuitSampler, StateFn, DictStateFn, CircuitStateFn"
   ]
  },
  {
   "cell_type": "code",
   "execution_count": null,
   "metadata": {},
   "outputs": [],
   "source": [
    "class RandomIsing:\n",
    "    \"\"\"\n",
    "    Stores the information of a model, which is defined by Ising bonds (J) on a \n",
    "    graph (G) with a parallel field (h).\n",
    "    \"\"\"\n",
    "    def __init__(self,d,nqubits,localTerm=True):\n",
    "        \"\"\"\n",
    "        d < n \n",
    "        d*n even\n",
    "        \"\"\"\n",
    "        self.d = d\n",
    "        self.nqubits = nqubits\n",
    "        self.localTerm = localTerm\n",
    "\n",
    "        self.G = nx.random_regular_graph(d,nqubits)\n",
    "        self.J = {pair: 2*np.random.randint(2)-1 for pair in list(self.G.edges())}\n",
    "        \n",
    "        if localTerm:\n",
    "            self.h = 2*np.random.randint(2,size=self.nqubits)-1\n",
    "        else:\n",
    "            self.h = np.zeros(self.nqubits)\n",
    "\n",
    "    def drawGraph(self):\n",
    "        return nx.draw(self.G, with_labels=True, alpha=0.8, node_size=500)\n",
    "\n",
    "    def setCoupling(self,J):\n",
    "        for pair in list(self.G.edges()):\n",
    "            self.J.update({pair:J})\n",
    "\n",
    "    \n",
    "    def Hamiltonian(self):\n",
    "        H = I^self.nqubits\n",
    "        for pair in list(self.G.edges()):\n",
    "            H += self.J.get(pair)*((I^pair[0])^Z^(I^(self.nqubits-pair[0]-1)))@((I^pair[1])^Z^(I^(self.nqubits-pair[1]-1)))\n",
    "        for i in range(self.nqubits):\n",
    "            H += self.h[i]*((I^i)^Z^(I^(self.nqubits-i-1)))\n",
    "        H -= I^self.nqubits\n",
    "        return H.reduce()\n",
    "    def QAOA(self, p, record=False):\n",
    "        \"\"\"returns optimization result of QAOA and the QAOA instance\"\"\"\n",
    "        callback = None\n",
    "        if record:\n",
    "            callback = self.callback\n",
    "        solver = QAOA(COBYLA(maxiter=50000),reps=p,quantum_instance=QuantumInstance(Aer.get_backend('statevector_simulator')),initial_point=np.append(np.linspace(2,0.1,p),np.linspace(0.5,2.5,p)),callback=callback)\n",
    "        res = solver.compute_minimum_eigenvalue(self.Hamiltonian())\n",
    "        if res.cost_function_evals >= 50000:\n",
    "            print('not converged',res)\n",
    "        return res, solver"
   ]
  },
  {
   "cell_type": "code",
   "execution_count": null,
   "metadata": {},
   "outputs": [],
   "source": [
    "mod=RandomIsing(2,3)\n",
    "res, solver=mod.QAOA(1)"
   ]
  }
 ],
 "metadata": {
  "kernelspec": {
   "display_name": "quantum_computing",
   "language": "python",
   "name": "python3"
  },
  "language_info": {
   "codemirror_mode": {
    "name": "ipython",
    "version": 3
   },
   "file_extension": ".py",
   "mimetype": "text/x-python",
   "name": "python",
   "nbconvert_exporter": "python",
   "pygments_lexer": "ipython3",
   "version": "3.10.8"
  },
  "orig_nbformat": 4,
  "vscode": {
   "interpreter": {
    "hash": "0fc28acb73d7c073f6e014c5f31253460157342ee4b9e0b19c261cd9ba43a95b"
   }
  }
 },
 "nbformat": 4,
 "nbformat_minor": 2
}
